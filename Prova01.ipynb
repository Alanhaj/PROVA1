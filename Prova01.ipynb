{
 "cells": [
  {
   "cell_type": "code",
   "execution_count": null,
   "id": "b488744e-de09-42f8-8518-3ee4cf06aad3",
   "metadata": {},
   "outputs": [],
   "source": [
    "def media_valores(a, b, c):\n",
    "    #Média aritmetica 3 numeros\n",
    "    soma = a + b + c\n",
    "    media = soma / 3\n",
    "    return media\n",
    "\n",
    "try:\n",
    "    num1 = int(input(\"Digite o 1º número: \"))\n",
    "    num2 = int(input(\"Digite o 2º número: \"))\n",
    "    num3 = int(input(\"Digite o 3º número: \"))\n",
    "\n",
    "    if num1 < 0 or num2 < 0 or num3 < 0:\n",
    "        print(\"Os números devem ser positivo.\")\n",
    "    else:\n",
    "        resultado = media_valores(num1, num2, num3)\n",
    "        print(f\"A média é = {resultado}\")\n",
    "except ValueError:\n",
    "    print(\"Digite apenas números inteiros.\")\n"
   ]
  },
  {
   "cell_type": "code",
   "execution_count": null,
   "id": "76b43a4e-a246-4590-9924-5e06aaa1edf8",
   "metadata": {},
   "outputs": [],
   "source": []
  }
 ],
 "metadata": {
  "kernelspec": {
   "display_name": "Python [conda env:base] *",
   "language": "python",
   "name": "conda-base-py"
  },
  "language_info": {
   "codemirror_mode": {
    "name": "ipython",
    "version": 3
   },
   "file_extension": ".py",
   "mimetype": "text/x-python",
   "name": "python",
   "nbconvert_exporter": "python",
   "pygments_lexer": "ipython3",
   "version": "3.12.7"
  }
 },
 "nbformat": 4,
 "nbformat_minor": 5
}
